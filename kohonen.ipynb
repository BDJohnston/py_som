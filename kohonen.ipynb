{
  "cells": [
    {
      "cell_type": "markdown",
      "metadata": {
        "id": "gzl-CV_Ktuum"
      },
      "source": [
        "# Self Organising Map Challenge\n",
        "\n",
        "## The Kohonen Network\n",
        "\n",
        "The Kohonen Self Organizing Map (SOM) provides a data visualization technique which helps to understand high dimensional data by reducing the dimensions of data to a map. SOM also represents clustering concept by grouping similar data together.\n",
        "\n",
        "Unlike other learning technique in neural networks, training a SOM requires no target vector. A SOM learns to classify the training data without any external supervision.\n",
        "\n",
        "![Network](http://www.pitt.edu/~is2470pb/Spring05/FinalProjects/Group1a/tutorial/kohonen1.gif)\n",
        "\n",
        "### Structure\n",
        "A network has a width and a height that descibes the grid of nodes.  For example, the grid may be 4x4, and so there would be 16 nodes.\n",
        "\n",
        "Each node has a weight for each value in the input vector.  A weight is simply a float value that the node multiplies the input value by to determine how influential it is (see below)\n",
        "\n",
        "Each node has a set of weights that match the size of the input vector.  For example, if the input vector has 10 elements, each node would have 10 weights.\n",
        "\n",
        "### Training \n",
        "To train the network\n",
        "\n",
        "1. Each node's weights are initialized.\n",
        "2. We enumerate through the training data for some number of iterations (repeating if necessary).  The current value we are training against will be referred to as the `current input vector`\n",
        "3. Every node is examined to calculate which one's weights are most like the input vector. The winning node is commonly known as the Best Matching Unit (BMU).\n",
        "4. The radius of the neighbourhood of the BMU is now calculated. This is a value that starts large, typically set to the 'radius' of the lattice,  but diminishes each time-step. Any nodes found within this radius are deemed to be inside the BMU's neighbourhood.\n",
        "5. Each neighbouring node's (the nodes found in step 4) weights are adjusted to make them more like the input vector. The closer a node is to the BMU, the more its weights get altered.\n",
        "6. Go to step 2 until we've completed N iterations.\n",
        "    \n",
        "\n",
        "### Calculating the Best Matching Unit (BMU)\n",
        "\n",
        "To determine the best matching unit, one method is to iterate through all the nodes and calculate the Euclidean distance between each node's weight vector and the current input vector. The node with a weight vector closest to the input vector is tagged as the BMU.\n",
        "\n",
        "The Euclidean distance $\\mathsf{distance}_{i}$ (from the input vector $V$ to the $i$th node's weights $W_i$)is given as (using Pythagoras):\n",
        "\n",
        "$$ \\mathsf{distance}_{i}=\\sqrt{\\sum_{k=0}^{k=n}(V_k - W_{i_k})^2}$$\n",
        "\n",
        "where V is the current input vector and $W_i$ is the node's weight vector.  $n$ is the size of the input & weight vector.\n",
        "\n",
        "*Note*: $V$ and $W$ are vectors.  $V$ is the input vector, and $W_i$ is the weight vector of the $i$th node.  $V_k$ and $W_{i_k}$ represent the $k$'th value within those vectors.  \n",
        "\n",
        "The BMU is the node with the minimal distance for the current input vector\n",
        "\n",
        "### Calculating the Neighbourhood Radius\n",
        "\n",
        "The next step is to calculate which of the other nodes are within the BMU's neighbourhood. All these nodes will have their weight vectors altered.\n",
        "\n",
        "First we calculate what the radius of the neighbourhood should be and then use Pythagoras to determine if each node is within the radial distance or not.\n",
        "\n",
        "A unique feature of the Kohonen learning algorithm is that the area of the neighbourhood shrinks over time. To do this we use the exponential decay function:\n",
        "\n",
        "Given a desired number of training iterations $n$:\n",
        "$$n_{\\mathsf{max iterations}} = 100$$\n",
        "\n",
        "Calculate the radius $\\sigma_t$ at iteration number $t$:\n",
        "\n",
        "$$\\sigma_t = \\sigma_0 \\exp\\left(- \\frac{t}{\\lambda} \\right) \\qquad t = 1,2,3,4... $$\n",
        "\n",
        "Where $\\sigma_0$ denotes the neighbourhood radius at iteration $t=0$, $t$ is the current iteration. We define $\\sigma_0$ (the initial radius) and $\\lambda$ (the time constant) as below:\n",
        "\n",
        "$$\\sigma_0 = \\frac{\\max(width,height)}{2} \\qquad \\lambda = \\frac{n_{\\mathsf{max iterations}}}{\\log(\\sigma_0)} $$\n",
        "\n",
        "Where $width$ & $height$ are the width and height of the grid.\n",
        "\n",
        "### Calculating the Learning Rate\n",
        "\n",
        "We define the initial leanring rate $\\alpha_0$ at iteration $t = 0$ as:\n",
        "$$\\alpha_0 = 0.1$$\n",
        "\n",
        "So, we can calculate the learning rate at a given iteration t as:\n",
        "\n",
        "$$\\alpha_t = \\alpha_0 \\exp \\left(- \\frac{t}{\\lambda} \\right) $$\n",
        "\n",
        "where $t$ is the iteration number, $\\lambda$ is the time constant (calculated above)\n",
        "        \n",
        "### Calculating the Influence\n",
        "\n",
        "As well as the learning rate, we need to calculate the influence $\\theta_t$ of the learning/training at a given iteration $t$.  \n",
        "\n",
        "So for each node, we need to caclulate the euclidean distance $d_i$ from the BMU to that node.  Similar to when we calculate the distance to find the BMU, we use Pythagoras.  The current ($i$th) node's x position is given by $x(W_i)$, and the BMU's x position is, likewise, given by $x(Z)$.  Similarly, $y()$ returns the y position of a node.\n",
        "\n",
        "$$ d_{i}=\\sqrt{(x(W_i) - x(Z))^2 + (y(W_i) - y(Z))^2} $$\n",
        "\n",
        "Then, the influence decays over time according to:\n",
        "\n",
        "$$\\theta_t = \\exp \\left( - \\frac{d_{i}^2}{2\\sigma_t^2} \\right) $$\n",
        "\n",
        "Where $\\sigma_t$ is the neighbourhood radius at iteration $t$ as calculated above. \n",
        "\n",
        "Note: You will need to come up with an approach to x() and y().\n",
        "\n",
        "\n",
        "### Updating the Weights\n",
        "\n",
        "To update the weights of a given node, we use:\n",
        "\n",
        "$$W_{i_{t+1}} = W_{i_t} + \\alpha_t \\theta_t (V_t - W_{i_t})$$\n",
        "        \n",
        "So $W_{i_{t+1}}$ is the new value of the weight for the $i$th node, $V_t$ is the current value of the training data, $W_{i_t}$ is the current weight and $\\alpha_t$ and $\\theta_t$ are the learning rate and influence calculated above.\n",
        "\n",
        "*Note*: the $W$ and $V$ are vectors "
      ]
    },
    {
      "cell_type": "markdown",
      "metadata": {
        "id": "fYW77ixJtuus"
      },
      "source": [
        "## Challenge\n",
        "\n",
        "In this challenge, you need to implement a SOM such that it can categorise a set of random 3-dimensional colours.  The output should be an image of the organised data.  \n",
        "\n",
        "### Expectations and Criteria\n",
        "- Be prepared to talk through your decisions & thinking (we encourage you to include these in code comments too!)\n",
        "- You may use any language you like (the examples given below are using Python)\n",
        "- Avoid libraries that would do too much of the work for you. For example, in Python a good approach would be to use `numpy`, but no packages with SOM specific functionality\n",
        "- Try and make your code as efficient as possible. Feel free to deviate from a literal interpretation of the instructions given under the **Training** heading above\n",
        "- Consider the best way to structure your code and code base for later use by other developers or in anticipation of productionisation (you don't need to use a Jupyter Notebook)\n",
        "- Include any tests you may have used (tests are not required however)\n",
        "- Include a `Dockerfile` to package your code for production\n",
        "- Be prepared to discuss your approach and process to productionise this application\n",
        "- You can use code below to generate the trainig data of 10 colours:"
      ]
    },
    {
      "cell_type": "code",
      "execution_count": null,
      "metadata": {
        "id": "6tww_oEktuuu",
        "outputId": "a2719928-070a-4447-929d-3a5bacc7f741"
      },
      "outputs": [
        {
          "data": {
            "text/plain": [
              "array([[ 0.06623834,  0.41323115,  0.5055075 ],\n",
              "       [ 0.27841281,  0.35846549,  0.46476453],\n",
              "       [ 0.06462256,  0.63723597,  0.33711911],\n",
              "       [ 0.56441382,  0.09053535,  0.55779798],\n",
              "       [ 0.65837748,  0.95236121,  0.17537656],\n",
              "       [ 0.79862749,  0.81493842,  0.56016761],\n",
              "       [ 0.31951876,  0.67071923,  0.1332033 ],\n",
              "       [ 0.51785355,  0.93340037,  0.48103237],\n",
              "       [ 0.5538335 ,  0.35650457,  0.00457656],\n",
              "       [ 0.90240766,  0.95776868,  0.39686523]])"
            ]
          },
          "execution_count": 2,
          "metadata": {},
          "output_type": "execute_result"
        }
      ],
      "source": [
        "# Generate Data\n",
        "import numpy as np\n",
        "input_data = np.random.random((10,3))\n",
        "input_data"
      ]
    },
    {
      "cell_type": "markdown",
      "metadata": {
        "id": "hlC-tIGUtuux"
      },
      "source": [
        "### 1. Implement a Kohonen network\n",
        "- Use the above description to implement a Kohonen network\n",
        "- Make sure you can configure the size of the input vector and the size of the map\n",
        "- Make sure node's weights are initialized to random values"
      ]
    },
    {
      "cell_type": "code",
      "execution_count": null,
      "metadata": {
        "id": "bQGzHQbytuux"
      },
      "outputs": [],
      "source": [
        "# Implement the network..."
      ]
    },
    {
      "cell_type": "code",
      "execution_count": 1,
      "metadata": {
        "id": "sEWI3HW3tuuy"
      },
      "outputs": [],
      "source": [
        "# torch implementation \n",
        "\n",
        "import torch  \n",
        "import math\n",
        "import matplotlib.pyplot as plt\n",
        "import numpy as np\n",
        "\n",
        "class Torch_SOM(torch.nn.Module):\n",
        "  '''\n",
        "  A Torch implementation of a Self Oranizing Map (SOM).\n",
        "  Method: forward(input):               Forward pass of SOM. returns bmus for input batch\n",
        "  Method: update(input):                Applies single update to SOM weights using input batch\n",
        "  Method: fit(input, n_iter, fit_rand): trains SOM weights on input \n",
        "  Method: view_weights():               visualizes SOM weights as 2D image\n",
        "  Attribute: width:     width of SOM\n",
        "  Attribute: height:    height of SOM\n",
        "  Attribute: n_inputs:  size of input SOM input vector, V\n",
        "  Attribute: alpha_0:   initial learning rate\n",
        "  Attribute: alpha:     current learning rate for training loop\n",
        "  Attribute: sigma_0:   initial radius\n",
        "  Attribute: sigma:     current radius for training loop\n",
        "  Attribute: weights:   torch tensor of shape [height * width, n_inputs] containing SOM weights\n",
        "  Attribute: locations: torch tensor of shape [height, width, 2] containing SOM node indexes\n",
        "  '''\n",
        "  \n",
        "  def __init__(self, n_inputs=3, width=10, height=10, alpha_0=0.1):\n",
        "    '''\n",
        "    Constructor for SOM class\n",
        "    Param: n_inputs: size of input SOM input vector, V, default = 3\n",
        "    Param: width:    width of SOM, default = 10\n",
        "    Param: height:   height of SOM, default = 10\n",
        "    Param: alpha_0:  initial learning rate, default = 0.1\n",
        "    Param: max_iter: maximum number of iterations/epochs in training loop, default = 500\n",
        "    :return:\n",
        "    '''\n",
        "    \n",
        "    super(Torch_SOM, self).__init__()\n",
        "\n",
        "    self.width = width\n",
        "    self.height = height\n",
        "    self.n_inputs = n_inputs\n",
        "    self.alpha_0 = alpha_0\n",
        "    self.alpha = alpha_0\n",
        "    # self.sigma_0 = max(width, height) / 2\n",
        "    self.sigma_0 = width * height / 2.0\n",
        "    # self.sigma_0 = width**2 + height**2\n",
        "    self.sigma = self.sigma_0\n",
        "    self.weights = torch.nn.Parameter(torch.rand(self.width * self.height, self.n_inputs), requires_grad=False)\n",
        "    locations = [np.array([i, j]) for i in range(self.height) for j in range(self.width)]\n",
        "    self.locations = torch.nn.Parameter(torch.tensor(np.array(locations), dtype=float), requires_grad=False)\n",
        "    self.pdist_fn = torch.nn.PairwiseDistance(p=2)\n",
        "\n",
        "  def forward(self, input):\n",
        "    '''\n",
        "    Forward Pass (torch style) of the Self Oranizing Map(SOM).\n",
        "    Makes use of broadcasting for batch operations.\n",
        "    Param: input: tensor of shape [batch size, input vector (V) size]\n",
        "    :return:  bmu_location: tensor of shape [batch size, 2] containing x, y\n",
        "                            co-ords for the bmu for each input in the batch\n",
        "              losses:       tensor of shape [batch size] containing euclidean distances\n",
        "                            for the bmu of each input in batch\n",
        "    '''\n",
        "\n",
        "    b_size = input.size()[0]\n",
        "    if len(input.size()) == 1:\n",
        "      input = input.unsqueeze(0)\n",
        "    else:\n",
        "      input = input.unsqueeze(1)\n",
        "    distances = self.pdist_fn(input, self.weights)\n",
        "    losses, bmu_idxs = torch.min(distances, -1)\n",
        "    bmu_locations = self.locations[bmu_idxs]\n",
        "    return bmu_locations, losses\n",
        "\n",
        "  def update(self, input):\n",
        "    '''\n",
        "    batch weight update of the Self Oranizing Map(SOM).\n",
        "    Makes use of broadcasting for batch operations.\n",
        "    Param: input: tensor of shape [batch size, input vector (V) size]\n",
        "    Param: t: epoch or step in training loop\n",
        "    :return:  loss: value of average loss for the input batch bmu's\n",
        "    '''\n",
        "\n",
        "    b_size = input.size()[0]\n",
        "    bmu_locations, losses = self.forward(input)\n",
        "    if len(input.size()) == 1:\n",
        "      input = input.unsqueeze(0)\n",
        "    else:\n",
        "      input = input.unsqueeze(1)\n",
        "    loss = losses.sum().div_(b_size).item() \n",
        "    bmu_distance_squares = (self.locations.float() - bmu_locations.unsqueeze(1).float()).pow_(2).sum(dim=2)\n",
        "    theta_t = bmu_distance_squares.neg_().div_(2 * self.sigma**2 + 1e-5).exp_()\n",
        "    delta = theta_t.mul_(self.alpha).unsqueeze(2) * (input - self.weights)\n",
        "    self.weights.add_(delta.mean(dim=0))\n",
        "    return loss\n",
        "\n",
        "  def fit(self, input, max_iter=None, fit_rand=False, device='cpu'):\n",
        "    '''\n",
        "    sklearn style fit method: trains SOM on batch of input data.\n",
        "    Param: input: tensor of shape [batch size, input vector (V) size]\n",
        "    Param: n_iter: number of epochs or steps in training loop\n",
        "    Param: fit_rand: boolean, if true, will set training batch to tensor with same\n",
        "                     shape as input but filled with new random values between\n",
        "                     0.0 and 1.0 every epoch\n",
        "    Param: device: device torch tensor is stored on (cpu or gpu)\n",
        "    :return:  loss: value of average loss for the final training data batch bmu's\n",
        "    '''\n",
        "\n",
        "    lambda_0 = max_iter / math.log(self.sigma_0)\n",
        "\n",
        "    n_samples = input.shape[0]\n",
        "    for t in range(max_iter):\n",
        "      if fit_rand:\n",
        "        input = torch.rand(n_samples, self.n_inputs, dtype=torch.float).to(device)\n",
        "      loss = self.update(input, t)\n",
        "      self.sigma = self.sigma_0 * math.exp(-t / lambda_0)\n",
        "      self.alpha = self.alpha_0 * math.exp(-t / lambda_0)\n",
        "\n",
        "    return loss\n",
        "\n",
        "  def view_weights(self):\n",
        "    '''\n",
        "    Visualizes the weights of the Self Oranizing Map(SOM)\n",
        "    :return:\n",
        "    '''\n",
        "\n",
        "    image = self.weights.reshape(self.height, self.width, 3).cpu().numpy()\n",
        "    plt.imshow(image)\n",
        "    plt.show()"
      ]
    },
    {
      "cell_type": "code",
      "execution_count": 2,
      "metadata": {
        "id": "QAblkBXXtuuz"
      },
      "outputs": [],
      "source": [
        "# numpy implementation\n",
        "\n",
        "import math\n",
        "import numpy as np\n",
        "import matplotlib.pyplot as plt\n",
        "\n",
        "class Numpy_SOM():\n",
        "  '''\n",
        "  A numpy implementation of a Self Oranizing Map (SOM).\n",
        "  Method: forward(input):               Forward pass of SOM. returns bmus for input vector, V\n",
        "  Method: update(input):                Applies single update to SOM weights using input vector, V\n",
        "  Method: fit(input, n_iter, fit_rand): trains SOM weights on input vectors \n",
        "  Method: view_weights():               visualizes SOM weights as 2D image\n",
        "  Attribute: width:     width of SOM\n",
        "  Attribute: height:    height of SOM\n",
        "  Attribute: n_inputs:  size of input SOM input vector, V\n",
        "  Attribute: alpha_0:   initial learning rate\n",
        "  Attribute: alpha:     current learning rate for training loop\n",
        "  Attribute: sigma_0:   initial radius\n",
        "  Attribute: sigma:     current radius for training loop\n",
        "  Attribute: rand:      numpy random number generator\n",
        "  Attribute: weights:   numpy ndarray of shape [height, width, n_inputs] containing SOM weights\n",
        "  Attribute: locations: numpy ndarray of shape [height, width, 2] containing SOM node indexes\n",
        "  '''\n",
        "\n",
        "  def __init__(self, n_inputs, width=10, height=10, alpha_0=0.1, rand=None):\n",
        "    '''\n",
        "    Constructor for SOM class\n",
        "    Param: n_inputs: size of input SOM input vector, V, default = 3\n",
        "    Param: width:    width of SOM, default = 10\n",
        "    Param: height:   height of SOM, default = 10\n",
        "    Param: alpha_0:  initial learning rate, default = 0.1\n",
        "    Param: rand:     numpy random number generator\n",
        "    :return:\n",
        "    '''\n",
        "\n",
        "    self.width = width\n",
        "    self.height = height\n",
        "    self.n_inputs = n_inputs\n",
        "    self.alpha_0 = alpha_0\n",
        "    self.alpha = self.alpha_0\n",
        "    # self.sigma_0 = max(SOM.shape[0], SOM.shape[1])/2\n",
        "    self.sigma_0 = width * height / 2.0\n",
        "    # self.sigma_0 = width**2 + height**2\n",
        "    self.sigma = self.sigma_0\n",
        "    if not rand:\n",
        "      self.rand = np.random.RandomState(0)\n",
        "    else:\n",
        "      self.rand = rand\n",
        "    self.weights = self.rand.random((self.width, self.height, self.n_inputs))\n",
        "    self.locations = np.array([np.array([np.array([i, j], dtype=np.float32) for j in range(self.weights.shape[1])]) for i in range(self.weights.shape[0])])\n",
        "  \n",
        "  def forward(self, input):\n",
        "    '''\n",
        "    Forward Pass (torch style) of the Self Oranizing Map (SOM).\n",
        "    Param: input: numpy array of shape [input vector (V) size]\n",
        "    :return: numpy array of shape [2] containing x, y co-ords for the bmu\n",
        "    '''\n",
        "  \n",
        "    subts = self.weights - input\n",
        "    distSq = np.einsum('ijk,ijk->ij',subts, subts).reshape(-1)\n",
        "    return np.array(np.unravel_index(np.argmin(distSq.reshape(-1), axis=0), self.weights.shape[:2])).astype(np.float32)\n",
        "\n",
        "  def update(self, input):\n",
        "    '''\n",
        "    compute weight update of the Self Oranizing Map (SOM) for input vector V.\n",
        "    Param: input: numpy array of shape [input vector (V) size]\n",
        "    :return:\n",
        "    '''\n",
        "\n",
        "    bmu = self.forward(input)\n",
        "    subts = self.locations - bmu\n",
        "    dist = np.einsum('ijk,ijk->ij',subts, subts)\n",
        "    dist = self.alpha * np.exp(-dist / (2 * self.sigma**2))\n",
        "    return dist[:,:,None] * (input - self.weights)\n",
        "  \n",
        "  def fit(self, input, max_iter, fit_rand=False):\n",
        "    '''\n",
        "    sklearn style fit method: trains SOM on input data.\n",
        "    Param: input: numpy array of shape [input vector (V) size]\n",
        "    Param: n_iter: number of epochs or steps in training loop\n",
        "    Param: fit_rand: boolean, if true, will set training data to tensor with same\n",
        "                     shape as input but filled with new random values between\n",
        "                     0.0 and 1.0 every epoch\n",
        "    :return:\n",
        "    '''\n",
        "    \n",
        "    lambda_0 = max_iter / math.log(self.sigma_0)\n",
        "\n",
        "    for t in np.arange(0, max_iter):\n",
        "        if fit_rand:\n",
        "          input = self.rand.random((20,3))\n",
        "        # self.rand.shuffle(input)      \n",
        "        # self.update(input)\n",
        "        new_weights = np.zeros(self.weights.shape)\n",
        "        for x in input:      \n",
        "          # self.update(x)\n",
        "          new_weights += self.update(x)\n",
        "        self.weights += new_weights/input.shape[0]\n",
        "        # Update learning rate and radius\n",
        "        self.alpha = self.alpha_0 * np.exp(-t / lambda_0)\n",
        "        self.sigma = self.sigma_0 * np.exp(-t / lambda_0)   \n",
        "  \n",
        "  def view_weights(self):\n",
        "    '''\n",
        "    Visualizes the weights of the Self Oranizing Map (SOM)\n",
        "    :return:\n",
        "    '''\n",
        "\n",
        "    image = self.weights.reshape(self.height, self.width, 3)\n",
        "    plt.imshow(image)\n",
        "    plt.show()"
      ]
    },
    {
      "cell_type": "code",
      "execution_count": null,
      "metadata": {},
      "outputs": [],
      "source": [
        "# numpy/numba implementation\n",
        "\n",
        "import math\n",
        "import numpy as np\n",
        "import matplotlib.pyplot as plt\n",
        "from numba import jit, objmode\n",
        "\n",
        "def get_bmu_from_distSq(ravelled_bmu_index, weights):\n",
        "  '''\n",
        "  Param: ravelled_bmu_index: bmu index in flattened SOM node location matrix\n",
        "  Param: weights: numpy ndarray containing SOM weights of shape [SOM height, SOM width, input vector (V) size]\n",
        "  return: numpy ndarray containing bmu index for 2D SOM node matrix of shape [2]\n",
        "  '''\n",
        "\n",
        "  bmu = np.unravel_index(ravelled_bmu_index, weights.shape[:2])\n",
        "  return np.array(bmu).astype(np.float32)\n",
        "\n",
        "@jit(nopython=True)\n",
        "def _update(input, weights, locations, alpha, sigma):\n",
        "  '''\n",
        "  weight update of the Self Oranizing Map (SOM).\n",
        "  Param: input: numpy ndarray containing SOM input vector V of shape [input vector (V) size]\n",
        "  Param: weights: numpy ndarray containing SOM weights of shape [SOM height, SOM width, input vector (V) size]\n",
        "  Param: locations: numpy ndarray containing node locations of shape [SOM height, SOM width, 2]\n",
        "  Param: alpha: learning rate for current training loop iteration\n",
        "  Param: sigma: radius for current training loop iteration\n",
        "  :return: weight update for input vector, V\n",
        "  '''\n",
        "\n",
        "  distSq = np.zeros((weights.shape[0], weights.shape[1]))\n",
        "  for i in range(weights.shape[0]):\n",
        "    for j in range(weights.shape[1]):\n",
        "      for k in range(weights.shape[2]):\n",
        "        distSq[i,j] += (weights[i,j,k]-input[k])**2\n",
        "  \n",
        "  ravelled_bmu_index = np.argmin(distSq.reshape(-1))\n",
        "  with objmode(bmu='float32[:]'):\n",
        "    bmu = get_bmu_from_distSq(ravelled_bmu_index, weights)\n",
        "\n",
        "  dist = np.zeros((locations.shape[0], locations.shape[1]))\n",
        "  for i in range(locations.shape[0]):\n",
        "    for j in range(locations.shape[1]):\n",
        "      for k in range(locations.shape[2]):\n",
        "        dist[i,j] += (locations[i,j,k]-bmu[k])**2\n",
        "\n",
        "  for i in range(dist.shape[0]):\n",
        "    for j in range(dist.shape[1]):\n",
        "      dist[i,j] = alpha * np.exp(-dist[i,j] / (2 * sigma**2))\n",
        "\n",
        "  weights_update = np.zeros(weights.shape)\n",
        "  for i in range(dist.shape[0]):\n",
        "    for j in range(dist.shape[1]):\n",
        "      for k in range(input.shape[0]):\n",
        "        weights_update[i,j,k] = dist[i,j] * (input[k] - weights[i,j,k])\n",
        "\n",
        "  return weights_update\n",
        "\n",
        "class Numba_SOM():\n",
        "  '''\n",
        "  A numpy implementation of a Self Oranizing Map (SOM).\n",
        "  Method: forward(input):               Forward pass of SOM. returns bmu for input vector, V\n",
        "  Method: update(input):                Computes single update to SOM weights for input vector, V\n",
        "  Method: fit(input, n_iter, fit_rand): trains SOM weights on input vectors\n",
        "  Method: view_weights():               visualizes SOM weights as 2D image\n",
        "  Attribute: width:     width of SOM\n",
        "  Attribute: height:    height of SOM\n",
        "  Attribute: n_inputs:  size of input SOM input vector, V\n",
        "  Attribute: alpha_0:   initial learning rate\n",
        "  Attribute: alpha:     current learning rate for training loop\n",
        "  Attribute: sigma_0:   initial radius\n",
        "  Attribute: sigma:     current radius for training loop\n",
        "  Attribute: rand:      numpy random number generator\n",
        "  Attribute: weights:   numpy ndarray of shape [height, width, n_inputs] containing SOM weights\n",
        "  Attribute: locations: numpy ndarray of shape [height, width, 2] containing SOM node indexes\n",
        "  '''\n",
        "\n",
        "  def __init__(self, n_inputs, width=10, height=10, alpha_0=0.1, rand=None):\n",
        "    '''\n",
        "    Constructor for SOM class\n",
        "    Param: n_inputs: size of input SOM input vector, V, default = 3\n",
        "    Param: width:    width of SOM, default = 10\n",
        "    Param: height:   height of SOM, default = 10\n",
        "    Param: alpha_0:  initial learning rate, default = 0.1\n",
        "    Param: rand:     numpy random number generator\n",
        "    :return:\n",
        "    '''\n",
        "\n",
        "    self.width = width\n",
        "    self.height = height\n",
        "    self.n_inputs = n_inputs\n",
        "    self.alpha_0 = alpha_0\n",
        "    self.alpha = self.alpha_0\n",
        "    # self.sigma_0 = max(self.width, self.height)/2\n",
        "    self.sigma_0 = width * height / 2.0\n",
        "    # self.sigma_0 = width**2 + height**2\n",
        "    self.sigma = self.sigma_0\n",
        "    if not rand:\n",
        "      self.rand = np.random.RandomState(0)\n",
        "    else:\n",
        "      self.rand = rand\n",
        "    self.weights = self.rand.random((self.width, self.height, self.n_inputs))\n",
        "    self.locations = np.array([np.array([np.array([i, j], dtype=np.float32) for j in range(self.weights.shape[1])]) for i in range(self.weights.shape[0])])\n",
        "\n",
        "  def update(self, input):\n",
        "    '''\n",
        "    compute weight update of the Self Oranizing Map (SOM) for input vector, V.\n",
        "    Param: input: numpy array of shape [input vector (V) size]\n",
        "    :return: weight update for input vector, V\n",
        "    '''\n",
        "\n",
        "    return _update(input, self.weights, self.locations, self.alpha, self.sigma)\n",
        "\n",
        "  def fit(self, input, max_iter, fit_rand=False):\n",
        "    '''\n",
        "    sklearn style fit method: trains SOM on input data.\n",
        "    Param: input: numpy array of shape [num training samples, input vector (V) size]\n",
        "    Param: max_iter: number of epochs or iterations in training loop\n",
        "    Param: fit_rand: boolean, if true, will set training batch to tensor with same\n",
        "                     shape as input but filled with new random values between\n",
        "                     0.0 and 1.0 every epoch\n",
        "    :return:  loss: value of average loss for the final training data batch bmu's\n",
        "    '''\n",
        "\n",
        "    lambda_0 = max_iter / math.log(self.sigma_0)\n",
        "\n",
        "    for t in np.arange(0, max_iter):\n",
        "        if fit_rand:\n",
        "          input = self.rand.random((20,3))\n",
        "        # self.rand.shuffle(input)\n",
        "        new_weights = np.zeros(self.weights.shape)\n",
        "        for x in input:\n",
        "          # self.weights += self.update(x)      \n",
        "          new_weights += self.update(x)\n",
        "        self.weights += new_weights/input.shape[0]\n",
        "        # Update learning rate and radius\n",
        "        self.alpha = self.alpha_0 * np.exp(-t / lambda_0)\n",
        "        self.sigma = self.sigma_0 * np.exp(-t / lambda_0)   \n",
        "  \n",
        "  def view_weights(self):\n",
        "    '''\n",
        "    Visualizes the weights of the Self Oranizing Map (SOM)\n",
        "    :return:\n",
        "    '''\n",
        "\n",
        "    image = self.weights.reshape(self.height, self.width, 3)\n",
        "    plt.imshow(image)\n",
        "    plt.show()"
      ]
    },
    {
      "cell_type": "markdown",
      "metadata": {
        "id": "ILgccLwxtuu0"
      },
      "source": [
        "### 2. Train a 10x10 network over 100 iterations\n",
        "\n",
        "- Training data is a random set of 20 colours\n",
        "- How long does this take?\n",
        "- What does the map look like? (You will need to translate the weights of each node in the map to pixel data)\n",
        "- What does this look like if you perform 200 & 500 iterations?\n",
        "\n",
        "You should end up with something that looks like below after 500 iterations:"
      ]
    },
    {
      "cell_type": "code",
      "execution_count": 4,
      "metadata": {
        "colab": {
          "base_uri": "https://localhost:8080/",
          "height": 282
        },
        "id": "xVXCRMGPtuu1",
        "outputId": "71c27721-bf23-471d-cadb-1b301d2f2cd9"
      },
      "outputs": [
        {
          "data": {
            "image/png": "[encoded data removed]",
            "text/plain": [
              "<Figure size 432x288 with 1 Axes>"
            ]
          },
          "metadata": {
            "needs_background": "light"
          },
          "output_type": "display_data"
        },
        {
          "name": "stdout",
          "output_type": "stream",
          "text": [
            "0.545170971999994\n"
          ]
        }
      ],
      "source": [
        "# train torch implementation on random colours\n",
        "import timeit\n",
        "\n",
        "def run_colour_test(view=True, save_path=None):\n",
        "  device = 'cuda:0' if torch.cuda.is_available() else 'cpu'\n",
        "  m = 10\n",
        "  n = 10\n",
        "  n_samples = 20 # Number of training examples\n",
        "  n_inputs = 3\n",
        "  n_iter = 500\n",
        "\n",
        "  # Initialize the training data\n",
        "  rand = np.random.RandomState(0)\n",
        "  input_data = rand.random((n_samples,n_inputs))\n",
        "  train_data = torch.tensor(input_data).float().to(device) \n",
        "  torch.manual_seed(0)\n",
        "  # train_data = torch.rand(n_samples, 3, dtype=torch.float).to(device)\n",
        "\n",
        "  som = Torch_SOM(n_inputs=n_inputs, width=m, height=n, alpha_0=1.0, max_iter=n_iter).to(device)\n",
        "  som.fit(train_data, n_iter=n_iter, fit_rand=True, device=device)\n",
        "  \n",
        "  if view:\n",
        "    som.view_weights()\n",
        "  \n",
        "  if save_path:\n",
        "    torch.save(som.state_dict(), save_path)\n",
        "\n",
        "print(timeit.timeit(stmt=run_colour_test, number=1)/1)"
      ]
    },
    {
      "cell_type": "code",
      "execution_count": 5,
      "metadata": {
        "colab": {
          "base_uri": "https://localhost:8080/",
          "height": 282
        },
        "id": "qHBvfj7ktuu2",
        "outputId": "3b61ccd2-5ee1-40e0-945e-14bce011aea7"
      },
      "outputs": [
        {
          "data": {
            "image/png": "[encoded data removed]",
            "text/plain": [
              "<Figure size 432x288 with 1 Axes>"
            ]
          },
          "metadata": {
            "needs_background": "light"
          },
          "output_type": "display_data"
        },
        {
          "name": "stdout",
          "output_type": "stream",
          "text": [
            "0.3171948150000077\n"
          ]
        }
      ],
      "source": [
        "# train numpy implementation on random colours\n",
        "import timeit\n",
        "\n",
        "def run_colour_test(vis=True):\n",
        "  m = 10\n",
        "  n = 10\n",
        "  n_samples = 20 # Number of training examples\n",
        "  n_inputs = 3\n",
        "  n_iter = 500\n",
        "  rand = np.random.RandomState(0)\n",
        "\n",
        "  # Initialize the training data\n",
        "  train_data = rand.random((n_samples,n_inputs))\n",
        "\n",
        "  som = Numpy_SOM(n_inputs, width=m, height=n, alpha_0=1.0, max_iter=n_iter, rand=rand)\n",
        "  som.fit(train_data, n_iter, fit_rand=True)\n",
        "  \n",
        "  if vis:\n",
        "    som.view_weights()\n",
        "\n",
        "print(timeit.timeit(stmt=run_colour_test, number=1)/1)"
      ]
    },
    {
      "cell_type": "code",
      "execution_count": null,
      "metadata": {},
      "outputs": [],
      "source": [
        "# train numpy/numba implementation on random colours\n",
        "import timeit\n",
        "\n",
        "def run_colour_test(vis=True):\n",
        "  m = 10\n",
        "  n = 10\n",
        "  n_samples = 20 # Number of training examples\n",
        "  n_inputs = 3\n",
        "  n_iter = 500\n",
        "  rand = np.random.RandomState(0)\n",
        "\n",
        "  # Initialize the training data\n",
        "  train_data = rand.random((n_samples,n_inputs))\n",
        "\n",
        "  som = Numba_SOM(n_inputs, width=m, height=n, alpha_0=1.0, max_iter=n_iter, rand=rand)\n",
        "  som.fit(train_data, n_iter, fit_rand=True)\n",
        "  \n",
        "  if vis:\n",
        "    som.view_weights()\n",
        "\n",
        "print(timeit.timeit(stmt=run_colour_test, number=1)/1)\n",
        "print(timeit.timeit(stmt=run_colour_test, number=1)/1)"
      ]
    },
    {
      "cell_type": "code",
      "execution_count": null,
      "metadata": {
        "id": "dneqP6nytuu3",
        "outputId": "74cc0d91-318b-4c66-e680-724fd9acde49"
      },
      "outputs": [
        {
          "data": {
            "text/plain": [
              "<matplotlib.image.AxesImage at 0x7fce01327978>"
            ]
          },
          "execution_count": 147,
          "metadata": {},
          "output_type": "execute_result"
        },
        {
          "data": {
            "image/png": "[encoded data removed]",
            "text/plain": [
              "<Figure size 432x288 with 1 Axes>"
            ]
          },
          "metadata": {
            "needs_background": "light"
          },
          "output_type": "display_data"
        }
      ],
      "source": [
        "import matplotlib.pyplot as plt\n",
        "plt.imshow(image_data)"
      ]
    },
    {
      "cell_type": "markdown",
      "metadata": {
        "id": "J2fm1nrrtuu4"
      },
      "source": [
        "### 3. Train a 100x100 network over 1000 iterations\n",
        "\n",
        "- This network will likely be significantly slower to train\n",
        "- What could you do to improve performance?\n",
        "- What does the network look like after 1000 iterations?\n",
        "\n",
        "You should end up with something like below:"
      ]
    },
    {
      "cell_type": "code",
      "execution_count": null,
      "metadata": {
        "colab": {
          "base_uri": "https://localhost:8080/",
          "height": 285
        },
        "id": "QEZJ5HyNtuu4",
        "outputId": "22b92a57-a09c-484f-a2d3-3d6f71ef91bb"
      },
      "outputs": [
        {
          "data": {
            "image/png": "[encoded data removed]",
            "text/plain": [
              "<Figure size 432x288 with 1 Axes>"
            ]
          },
          "metadata": {
            "needs_background": "light"
          },
          "output_type": "display_data"
        },
        {
          "name": "stdout",
          "output_type": "stream",
          "text": [
            "1.0380171450001399\n"
          ]
        }
      ],
      "source": [
        "# train torch implementation on random colours\n",
        "import timeit\n",
        "\n",
        "def run_colour_test(view=True, save_path=None):\n",
        "  device = 'cuda:0' if torch.cuda.is_available() else 'cpu'\n",
        "  m = 100\n",
        "  n = 100\n",
        "  # Number of training examples\n",
        "  n_samples = 20\n",
        "  n_inputs = 3\n",
        "  n_iter = 1000\n",
        "\n",
        "  # Initialize the training data\n",
        "  rand = np.random.RandomState(0)\n",
        "  input_data = rand.random((n_samples,n_inputs))\n",
        "  train_data = torch.tensor(input_data).float().to(device)\n",
        "  torch.manual_seed(0)\n",
        "  # train_data = torch.rand(n_samples, 3, dtype=torch.float).to(device)\n",
        "  som = Torch_SOM(n_inputs=n_inputs, width=m, height=n, alpha_0=5.0, max_iter=n_iter).to(device)\n",
        "  som.fit(train_data, n_iter=n_iter, fit_rand=True, device=device)\n",
        "  \n",
        "  if view:\n",
        "    som.view_weights()\n",
        "  \n",
        "  if save_path:\n",
        "    torch.save(som.state_dict(), save_path)\n",
        "\n",
        "print(timeit.timeit(stmt=run_colour_test, number=1)/1)\n",
        "\n",
        "# see GPU train time below!"
      ]
    },
    {
      "cell_type": "code",
      "execution_count": null,
      "metadata": {
        "colab": {
          "base_uri": "https://localhost:8080/",
          "height": 285
        },
        "id": "sd2LiL_Ktuu5",
        "outputId": "e6fc4922-3018-4dbc-db28-6a68c2277ed2"
      },
      "outputs": [
        {
          "data": {
            "image/png": "[encoded data removed]",
            "text/plain": [
              "<Figure size 432x288 with 1 Axes>"
            ]
          },
          "metadata": {
            "needs_background": "light"
          },
          "output_type": "display_data"
        },
        {
          "name": "stdout",
          "output_type": "stream",
          "text": [
            "21.146906009000077\n"
          ]
        }
      ],
      "source": [
        "# train numpy implementation on random colours\n",
        "import timeit\n",
        "\n",
        "def run_colour_test(vis=True):\n",
        "  m = 100\n",
        "  n = 100\n",
        "  # Number of training examples\n",
        "  n_samples = 20 #3000\n",
        "  n_inputs = 3\n",
        "  n_iter = 1000\n",
        "  rand = np.random.RandomState(0)\n",
        "\n",
        "  # Initialize the training data\n",
        "  train_data = rand.random((n_samples,n_inputs))\n",
        "\n",
        "  som = Numpy_SOM(n_inputs, width=m, height=n, alpha_0=10.0, max_iter=n_iter, rand=rand)\n",
        "  som.fit(train_data, n_iter, fit_rand=True)\n",
        "  \n",
        "  if vis:\n",
        "    som.view_weights()\n",
        "\n",
        "print(timeit.timeit(stmt=run_colour_test, number=1)/1)"
      ]
    },
    {
      "cell_type": "code",
      "execution_count": null,
      "metadata": {},
      "outputs": [],
      "source": [
        "# train numba/numpy implementation on random colours\n",
        "import timeit\n",
        "\n",
        "def run_colour_test(vis=True):\n",
        "  m = 100\n",
        "  n = 100\n",
        "  # Number of training examples\n",
        "  n_samples = 20 #3000\n",
        "  n_inputs = 3\n",
        "  n_iter = 1000\n",
        "  rand = np.random.RandomState(0)\n",
        "\n",
        "  # Initialize the training data\n",
        "  train_data = rand.random((n_samples,n_inputs))\n",
        "\n",
        "  som = Numba_SOM(n_inputs, width=m, height=n, alpha_0=1.0, max_iter=n_iter, rand=rand)\n",
        "  som.fit(train_data, n_iter, fit_rand=True)\n",
        "  \n",
        "  if vis:\n",
        "    som.view_weights()\n",
        "\n",
        "print(timeit.timeit(stmt=run_colour_test, number=1)/1)\n",
        "print(timeit.timeit(stmt=run_colour_test, number=1)/1)"
      ]
    },
    {
      "cell_type": "code",
      "execution_count": null,
      "metadata": {
        "id": "BWDWUoMNtuu5",
        "outputId": "84f91e29-261e-476d-9655-8e5cafccf8ab"
      },
      "outputs": [
        {
          "data": {
            "text/plain": [
              "<matplotlib.image.AxesImage at 0x7fce012f8208>"
            ]
          },
          "execution_count": 141,
          "metadata": {},
          "output_type": "execute_result"
        },
        {
          "data": {
            "image/png": "[encoded data removed]",
            "text/plain": [
              "<Figure size 432x288 with 1 Axes>"
            ]
          },
          "metadata": {
            "needs_background": "light"
          },
          "output_type": "display_data"
        }
      ],
      "source": [
        "import matplotlib.pyplot as plt\n",
        "plt.imshow(image_data)"
      ]
    },
    {
      "cell_type": "code",
      "execution_count": null,
      "metadata": {
        "id": "p0fIyZ20tuu6"
      },
      "outputs": [],
      "source": []
    }
  ],
  "metadata": {
    "colab": {
      "collapsed_sections": [],
      "name": "kohonen.ipynb",
      "provenance": []
    },
    "kernelspec": {
      "display_name": "Python 3",
      "language": "python",
      "name": "python3"
    },
    "language_info": {
      "codemirror_mode": {
        "name": "ipython",
        "version": 3
      },
      "file_extension": ".py",
      "mimetype": "text/x-python",
      "name": "python",
      "nbconvert_exporter": "python",
      "pygments_lexer": "ipython3",
      "version": "3.7.1"
    }
  },
  "nbformat": 4,
  "nbformat_minor": 0
}
